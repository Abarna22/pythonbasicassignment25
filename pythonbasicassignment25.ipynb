{
 "cells": [
  {
   "cell_type": "code",
   "execution_count": 2,
   "id": "6a817104",
   "metadata": {},
   "outputs": [
    {
     "name": "stdout",
     "output_type": "stream",
     "text": [
      "1 1 1\n"
     ]
    },
    {
     "data": {
      "text/plain": [
       "3"
      ]
     },
     "execution_count": 2,
     "metadata": {},
     "output_type": "execute_result"
    }
   ],
   "source": [
    "#qp1\n",
    "\n",
    "def equal(n):\n",
    "    for i in n:\n",
    "        return n.count(i)\n",
    "    \n",
    "num=list(map(int,input().split()))\n",
    "equal(num)"
   ]
  },
  {
   "cell_type": "code",
   "execution_count": 3,
   "id": "f2b55009",
   "metadata": {},
   "outputs": [
    {
     "data": {
      "text/plain": [
       "[('B', 2), ('C', 3), ('D', 1)]"
      ]
     },
     "execution_count": 3,
     "metadata": {},
     "output_type": "execute_result"
    }
   ],
   "source": [
    "#qp2\n",
    "\n",
    "def dictionary(d):\n",
    "    el=[]\n",
    "    for i in d:\n",
    "        tpl=(i,d[i])\n",
    "        el.append(tpl)\n",
    "     \n",
    "    return sorted(el)\n",
    "\n",
    "dictionary({\n",
    "\"D\": 1,\n",
    "\"B\": 2,\n",
    "\"C\": 3\n",
    "})"
   ]
  },
  {
   "cell_type": "code",
   "execution_count": 8,
   "id": "f1b723cf",
   "metadata": {},
   "outputs": [
    {
     "data": {
      "text/plain": [
       "{'p': 'P', 's': 'S'}"
      ]
     },
     "execution_count": 8,
     "metadata": {},
     "output_type": "execute_result"
    }
   ],
   "source": [
    "#qp3\n",
    "\n",
    "def mapping(d):\n",
    "    return dict((i,i.upper())for i in d)\n",
    "mapping([\"p\", \"s\"])"
   ]
  },
  {
   "cell_type": "code",
   "execution_count": 6,
   "id": "426313ca",
   "metadata": {},
   "outputs": [
    {
     "data": {
      "text/plain": [
       "{'a': 'A', 'b': 'B', 'c': 'C', 'f': 'F'}"
      ]
     },
     "execution_count": 6,
     "metadata": {},
     "output_type": "execute_result"
    }
   ],
   "source": [
    "mapping([\"a\", \"b\",\"c\",\"f\"])"
   ]
  },
  {
   "cell_type": "code",
   "execution_count": 13,
   "id": "631858b1",
   "metadata": {},
   "outputs": [
    {
     "data": {
      "text/plain": [
       "'upplus und bununus'"
      ]
     },
     "execution_count": 13,
     "metadata": {},
     "output_type": "execute_result"
    }
   ],
   "source": [
    "#qp4\n",
    "\n",
    "def vow_replace(s,r):\n",
    "    v= 'aeiouAEIOU'\n",
    "    \n",
    "    for x in v:\n",
    "        s=s.replace(x,r)\n",
    "        \n",
    "    return s\n",
    "\n",
    "vow_replace(\"apples and bananas\", \"u\")\n",
    "            \n",
    "            "
   ]
  },
  {
   "cell_type": "code",
   "execution_count": 16,
   "id": "b4e7fcc5",
   "metadata": {},
   "outputs": [
    {
     "data": {
      "text/plain": [
       "'To bE Or nOt tO Be'"
      ]
     },
     "execution_count": 16,
     "metadata": {},
     "output_type": "execute_result"
    }
   ],
   "source": [
    "#qp5\n",
    "\n",
    "def ascci_captilize(s):\n",
    "    result=[]\n",
    "    for i in range(len(s)):\n",
    "        if i%2==0:\n",
    "            result.append(s[i].upper())\n",
    "        else:\n",
    "            result.append(s[i].lower())\n",
    "    return ''.join(result)\n",
    "        \n",
    "ascci_captilize(\"to be or not to be\")"
   ]
  },
  {
   "cell_type": "code",
   "execution_count": null,
   "id": "e159b3bf",
   "metadata": {},
   "outputs": [],
   "source": []
  }
 ],
 "metadata": {
  "kernelspec": {
   "display_name": "Python 3 (ipykernel)",
   "language": "python",
   "name": "python3"
  },
  "language_info": {
   "codemirror_mode": {
    "name": "ipython",
    "version": 3
   },
   "file_extension": ".py",
   "mimetype": "text/x-python",
   "name": "python",
   "nbconvert_exporter": "python",
   "pygments_lexer": "ipython3",
   "version": "3.9.12"
  }
 },
 "nbformat": 4,
 "nbformat_minor": 5
}
